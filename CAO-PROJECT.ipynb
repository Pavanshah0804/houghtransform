{
  "nbformat": 4,
  "nbformat_minor": 0,
  "metadata": {
    "colab": {
      "provenance": [],
      "gpuType": "T4"
    },
    "kernelspec": {
      "name": "python3",
      "display_name": "Python 3"
    },
    "language_info": {
      "name": "python"
    },
    "accelerator": "GPU"
  },
  "cells": [
    {
      "cell_type": "code",
      "source": [
        "!nvcc --version"
      ],
      "metadata": {
        "colab": {
          "base_uri": "https://localhost:8080/"
        },
        "id": "qx3Bk7ymQFL5",
        "outputId": "977b7730-d46c-4036-f864-3c19c4b13bb6"
      },
      "execution_count": 3,
      "outputs": [
        {
          "output_type": "stream",
          "name": "stdout",
          "text": [
            "nvcc: NVIDIA (R) Cuda compiler driver\n",
            "Copyright (c) 2005-2022 NVIDIA Corporation\n",
            "Built on Wed_Sep_21_10:33:58_PDT_2022\n",
            "Cuda compilation tools, release 11.8, V11.8.89\n",
            "Build cuda_11.8.r11.8/compiler.31833905_0\n"
          ]
        }
      ]
    },
    {
      "cell_type": "code",
      "source": [
        "!pip install git+https://github.com/andreinechaev/nvcc4jupyter.git"
      ],
      "metadata": {
        "colab": {
          "base_uri": "https://localhost:8080/"
        },
        "id": "pjckyX2HRRCF",
        "outputId": "d195d40c-3232-4f0e-b20e-4043aecb488f"
      },
      "execution_count": 4,
      "outputs": [
        {
          "output_type": "stream",
          "name": "stdout",
          "text": [
            "Collecting git+https://github.com/andreinechaev/nvcc4jupyter.git\n",
            "  Cloning https://github.com/andreinechaev/nvcc4jupyter.git to /tmp/pip-req-build-ics0y6do\n",
            "  Running command git clone --filter=blob:none --quiet https://github.com/andreinechaev/nvcc4jupyter.git /tmp/pip-req-build-ics0y6do\n",
            "  Resolved https://github.com/andreinechaev/nvcc4jupyter.git to commit 0a71d56e5dce3ff1f0dd2c47c29367629262f527\n",
            "  Preparing metadata (setup.py) ... \u001b[?25l\u001b[?25hdone\n",
            "Building wheels for collected packages: NVCCPlugin\n",
            "  Building wheel for NVCCPlugin (setup.py) ... \u001b[?25l\u001b[?25hdone\n",
            "  Created wheel for NVCCPlugin: filename=NVCCPlugin-0.0.2-py3-none-any.whl size=4294 sha256=e453609e11f3da433a4f3601ddae29df66dc7fa0a2770f5110b0e50a39860525\n",
            "  Stored in directory: /tmp/pip-ephem-wheel-cache-sviu_tkf/wheels/a8/b9/18/23f8ef71ceb0f63297dd1903aedd067e6243a68ea756d6feea\n",
            "Successfully built NVCCPlugin\n",
            "Installing collected packages: NVCCPlugin\n",
            "Successfully installed NVCCPlugin-0.0.2\n"
          ]
        }
      ]
    },
    {
      "cell_type": "code",
      "source": [
        "%load_ext nvcc_plugin"
      ],
      "metadata": {
        "colab": {
          "base_uri": "https://localhost:8080/"
        },
        "id": "K8XxY7L7RYJd",
        "outputId": "2cfb4765-c735-4c7b-de17-ffc2f4d95cf4"
      },
      "execution_count": 5,
      "outputs": [
        {
          "output_type": "stream",
          "name": "stdout",
          "text": [
            "created output directory at /content/src\n",
            "Out bin /content/result.out\n"
          ]
        }
      ]
    },
    {
      "cell_type": "code",
      "source": [
        "!apt-get -qq install -y libopencv-dev\n"
      ],
      "metadata": {
        "id": "9s2agn4OR4Cu"
      },
      "execution_count": 8,
      "outputs": []
    },
    {
      "cell_type": "code",
      "source": [
        "!pkg-config --cflags opencv4\n"
      ],
      "metadata": {
        "colab": {
          "base_uri": "https://localhost:8080/"
        },
        "id": "PS8294MER-Dv",
        "outputId": "bcc0ce59-aaf4-4722-ea8e-2708adf4d978"
      },
      "execution_count": 9,
      "outputs": [
        {
          "output_type": "stream",
          "name": "stdout",
          "text": [
            "-I/usr/include/opencv4\n"
          ]
        }
      ]
    },
    {
      "cell_type": "code",
      "source": [
        "!nvcc -o main your_cuda_code.cu -I/usr/include/opencv4\n"
      ],
      "metadata": {
        "id": "MDIDXt7jSEIT"
      },
      "execution_count": null,
      "outputs": []
    },
    {
      "cell_type": "code",
      "source": [
        "# Install OpenCV\n",
        "!apt-get -qq install -y libopencv-dev\n",
        "\n",
        "# Create a simple CUDA program (main.cu)\n",
        "cuda_code = \"\"\"\n",
        "#include <iostream>\n",
        "#include <cmath>\n",
        "#include <ctime>\n",
        "#include <cuda_runtime.h>\n",
        "#include <opencv2/opencv.hpp>\n",
        "#include <functional>\n",
        "// Define image dimensions\n",
        "const int imageWidth = 1024;\n",
        "const int imageHeight = 1024;\n",
        "\n",
        "// Define the number of threads per block\n",
        "const int threadsPerBlock = 256;\n",
        "\n",
        "// Define the size and shape of the traffic signal template\n",
        "const int templateWidth = 50;\n",
        "const int templateHeight = 50;\n",
        "void serialHoughTransform(const float* inputImage, int* accumulator);\n",
        "__global__ void parallelHoughTransform(const float* inputImage, int* accumulator);\n",
        "\n",
        "// Function to perform the Generalized Hough Transform in serial\n",
        "void serialHoughTransform(const float* inputImage, int* accumulator) {\n",
        "    // Dummy code for demonstration purposes\n",
        "    for (int y = 0; y < imageHeight; ++y) {\n",
        "        for (int x = 0; x < imageWidth; ++x) {\n",
        "            if (inputImage[y * imageWidth + x] > 0) {\n",
        "                // Loop over possible template positions\n",
        "                for (int ty = 0; ty < templateHeight; ++ty) {\n",
        "                    for (int tx = 0; tx < templateWidth; ++tx) {\n",
        "                        int dy = y - ty;\n",
        "                        int dx = x - tx;\n",
        "\n",
        "                        // Check if the template position is within bounds\n",
        "                        if (dy >= 0 && dy < imageHeight && dx >= 0 && dx < imageWidth) {\n",
        "                            // Vote in the accumulator space\n",
        "                            accumulator[dy * imageWidth + dx] += 1;\n",
        "                        }\n",
        "                    }\n",
        "                }\n",
        "            }\n",
        "        }\n",
        "    }\n",
        "}\n",
        "\n",
        "// CUDA kernel to perform the Generalized Hough Transform in parallel\n",
        "__global__ void parallelHoughTransform(const float* inputImage, int* accumulator) {\n",
        "    int index = blockIdx.x * blockDim.x + threadIdx.x;\n",
        "    int y = index / imageWidth;\n",
        "    int x = index % imageWidth;\n",
        "\n",
        "    if (y < imageHeight && x < imageWidth && inputImage[y * imageWidth + x] > 0) {\n",
        "        // Loop over possible template positions\n",
        "        for (int ty = 0; ty < templateHeight; ++ty) {\n",
        "            for (int tx = 0; tx < templateWidth; ++tx) {\n",
        "                int dy = y - ty;\n",
        "                int dx = x - tx;\n",
        "\n",
        "                // Check if the template position is within bounds\n",
        "                if (dy >= 0 && dy < imageHeight && dx >= 0 && dx < imageWidth) {\n",
        "                    // Vote in the accumulator space\n",
        "                    atomicAdd(&accumulator[dy * imageWidth + dx], 1);\n",
        "                }\n",
        "            }\n",
        "        }\n",
        "    }\n",
        "}\n",
        "\n",
        "int main() {\n",
        "    // Load the input image\n",
        "    cv::Mat inputImageMat = cv::imread(\"sample.jpg\", cv::IMREAD_GRAYSCALE);\n",
        "\n",
        "    // Check if the image is loaded successfully\n",
        "    if (inputImageMat.empty()) {\n",
        "        std::cerr << \"Error loading the input image.\" << std::endl;\n",
        "        return -1;\n",
        "    }\n",
        "\n",
        "    // Convert the input image to a float array (assuming it's a single-channel image)\n",
        "    float* inputImage = new float[imageWidth * imageHeight];\n",
        "    for (int y = 0; y < imageHeight; ++y) {\n",
        "        for (int x = 0; x < imageWidth; ++x) {\n",
        "            inputImage[y * imageWidth + x] = static_cast<float>(inputImageMat.at<uchar>(y, x));\n",
        "        }\n",
        "    }\n",
        "\n",
        "    // Allocate memory for accumulator arrays\n",
        "    int* serialAccumulator = new int[imageWidth * imageHeight];\n",
        "    int* parallelAccumulator = new int[imageWidth * imageHeight];\n",
        "\n",
        "    // Serial Generalized Hough Transform\n",
        "    clock_t serialStart = clock();\n",
        "    serialHoughTransform(inputImage, serialAccumulator);\n",
        "    clock_t serialEnd = clock();\n",
        "\n",
        "    // Parallel Generalized Hough Transform\n",
        "    float* d_inputImage;\n",
        "    int* d_parallelAccumulator;\n",
        "\n",
        "    cudaMalloc((void**)&d_inputImage, imageWidth * imageHeight * sizeof(float));\n",
        "    cudaMalloc((void**)&d_parallelAccumulator, imageWidth * imageHeight * sizeof(int));\n",
        "\n",
        "    cudaMemcpy(d_inputImage, inputImage, imageWidth * imageHeight * sizeof(float), cudaMemcpyHostToDevice);\n",
        "\n",
        "    dim3 blocks(imageWidth * imageHeight / threadsPerBlock, 1, 1);\n",
        "    dim3 threads(threadsPerBlock, 1, 1);\n",
        "\n",
        "    clock_t parallelStart = clock();\n",
        "    parallelHoughTransform<<<blocks, threads>>>(d_inputImage, d_parallelAccumulator);\n",
        "    cudaDeviceSynchronize();\n",
        "    clock_t parallelEnd = clock();\n",
        "\n",
        "    cudaMemcpy(parallelAccumulator, d_parallelAccumulator, imageWidth * imageHeight * sizeof(int), cudaMemcpyDeviceToHost);\n",
        "\n",
        "    // Calculate and print execution times\n",
        "    double serialTime = double(serialEnd - serialStart) / CLOCKS_PER_SEC;\n",
        "    double parallelTime = double(parallelEnd - parallelStart) / CLOCKS_PER_SEC;\n",
        "\n",
        "    std::cout << \"Serial Execution Time: \" << serialTime << \" seconds\" << std::endl;\n",
        "    std::cout << \"Parallel Execution Time: \" << parallelTime << \" seconds\" << std::endl;\n",
        "\n",
        "\n",
        "\n",
        "    // Free allocated memory\n",
        "    delete[] inputImage;\n",
        "    delete[] serialAccumulator;\n",
        "    delete[] parallelAccumulator;\n",
        "    cudaFree(d_inputImage);\n",
        "    cudaFree(d_parallelAccumulator);\n",
        "\n",
        "    return 0;\n",
        "}\n",
        "\"\"\"\n",
        "\n",
        "# Write the CUDA code to a file\n",
        "with open(\"main.cu\", \"w\") as file:\n",
        "    file.write(cuda_code)\n",
        "\n",
        "# Compile the CUDA code\n",
        "!nvcc -o main main.cu -I/usr/include/opencv4 -L/usr/lib -lopencv_core -lopencv_highgui -lopencv_imgcodecs\n",
        "\n",
        "\n",
        "# Run the compiled program\n",
        "!./main\n"
      ],
      "metadata": {
        "colab": {
          "base_uri": "https://localhost:8080/"
        },
        "id": "l2QwJNOjSuJi",
        "outputId": "f6393eea-7d55-4749-e7eb-7f3f7c580157"
      },
      "execution_count": 15,
      "outputs": [
        {
          "output_type": "stream",
          "name": "stdout",
          "text": [
            "\u001b[01m\u001b[0m\u001b[01m/usr/include/opencv4/opencv2/stitching/detail/warpers.hpp(235)\u001b[0m: \u001b[01;35mwarning\u001b[0m #611-D: overloaded virtual function \u001b[01m\"cv::detail::PlaneWarper::buildMaps\"\u001b[0m is only partially overridden in class \u001b[01m\"cv::detail::AffineWarper\"\u001b[0m\n",
            "\n",
            "\u001b[01m\u001b[0m\u001b[01m/usr/include/opencv4/opencv2/stitching/detail/warpers.hpp(235)\u001b[0m: \u001b[01;35mwarning\u001b[0m #611-D: overloaded virtual function \u001b[01m\"cv::detail::PlaneWarper::warp\"\u001b[0m is only partially overridden in class \u001b[01m\"cv::detail::AffineWarper\"\u001b[0m\n",
            "\n",
            "\u001b[01m\u001b[0m\u001b[01m/usr/include/opencv4/opencv2/stitching/detail/blenders.hpp(100)\u001b[0m: \u001b[01;35mwarning\u001b[0m #611-D: overloaded virtual function \u001b[01m\"cv::detail::Blender::prepare\"\u001b[0m is only partially overridden in class \u001b[01m\"cv::detail::FeatherBlender\"\u001b[0m\n",
            "\n",
            "\u001b[01m\u001b[0m\u001b[01m/usr/include/opencv4/opencv2/stitching/detail/blenders.hpp(127)\u001b[0m: \u001b[01;35mwarning\u001b[0m #611-D: overloaded virtual function \u001b[01m\"cv::detail::Blender::prepare\"\u001b[0m is only partially overridden in class \u001b[01m\"cv::detail::MultiBandBlender\"\u001b[0m\n",
            "\n",
            "\u001b[01m\u001b[0m\u001b[01m/usr/include/opencv4/opencv2/stitching/detail/warpers.hpp(235)\u001b[0m: \u001b[01;35mwarning\u001b[0m #611-D: overloaded virtual function \u001b[01m\"cv::detail::PlaneWarper::buildMaps\"\u001b[0m is only partially overridden in class \u001b[01m\"cv::detail::AffineWarper\"\u001b[0m\n",
            "\n",
            "\u001b[01m\u001b[0m\u001b[01m/usr/include/opencv4/opencv2/stitching/detail/warpers.hpp(235)\u001b[0m: \u001b[01;35mwarning\u001b[0m #611-D: overloaded virtual function \u001b[01m\"cv::detail::PlaneWarper::warp\"\u001b[0m is only partially overridden in class \u001b[01m\"cv::detail::AffineWarper\"\u001b[0m\n",
            "\n",
            "\u001b[01m\u001b[0m\u001b[01m/usr/include/opencv4/opencv2/stitching/detail/blenders.hpp(100)\u001b[0m: \u001b[01;35mwarning\u001b[0m #611-D: overloaded virtual function \u001b[01m\"cv::detail::Blender::prepare\"\u001b[0m is only partially overridden in class \u001b[01m\"cv::detail::FeatherBlender\"\u001b[0m\n",
            "\n",
            "\u001b[01m\u001b[0m\u001b[01m/usr/include/opencv4/opencv2/stitching/detail/blenders.hpp(127)\u001b[0m: \u001b[01;35mwarning\u001b[0m #611-D: overloaded virtual function \u001b[01m\"cv::detail::Blender::prepare\"\u001b[0m is only partially overridden in class \u001b[01m\"cv::detail::MultiBandBlender\"\u001b[0m\n",
            "\n"
          ]
        }
      ]
    }
  ]
}